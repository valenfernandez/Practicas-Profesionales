{
 "cells": [
  {
   "cell_type": "markdown",
   "id": "removable-thousand",
   "metadata": {},
   "source": [
    "# EDA Dataset de Violencia de Género: \n",
    "## Análisis exploratorio de datos usando la librería spaCy"
   ]
  },
  {
   "cell_type": "markdown",
   "id": "leading-profile",
   "metadata": {},
   "source": [
    "## Resumen"
   ]
  },
  {
   "cell_type": "markdown",
   "id": "unusual-secret",
   "metadata": {},
   "source": [
    "## Marco Teorico\n",
    "\n",
    "### NLP \n",
    "El procesamiento del lenguaje natural es una rama de la inteligencia artificial que se ocupa de la manipulación del lenguaje humano de forma tal que una máquina pueda interpretar dicho lenguaje. Se puede decir que funciona como una herramienta para la comunicación entre las computadoras y los humanos. \n",
    "A partir de tareas como el análisis sintáctico, el etiquetado de la parte del habla (Part of speech tag) y la lematización se analizan las oraciones y su significado, haciendo posible que se interprete el texto y se saquen diversas conclusiones del mismo, como el sentimiento del mismo, o las partes más importantes. Para esto se dividen las distintas partes del texto y se exploran sus relaciones entre sí.\n",
    "Este proceso de análisis se realiza entrenando una red neuronal para que logre realizar predicciones sobre los textos a  procesar.\n",
    "\n",
    "### Spacy\n",
    "SpaCy es una biblioteca de procesamiento de lenguaje natural para Python gratuita y open-source. Fue diseñada específicamente para la producción de aplicaciones que puedan procesar  y entender grandes volúmenes de texto. La librería usa redes neuronales convolucionales para realizar part-of-speech tagging, dependency parsing, categorización de texto y reconocimiento de entidades (NER). SpaCy ofrece modelos estadísticos pre entrenados  en varios idiomas, que se pueden instalar como modelos de python, hay varios modelos de distintos tamaños y con distintos tipos de datos incluidos para que se ajusten mejor a la necesidad particular de cada caso.\n",
    "SpaCy funciona con un pipeline de procesamiento. Al llamar al método nlp de spacy sobre un texto este pasa por todos los componentes del pipeline para ser procesado, en primer lugar pasa por el tokenizer y se produce el objeto Doc, este luego pasa por los componentes del pipeline, donde cada uno dispone de la información recolectada por todos los componentes anteriores."
   ]
  },
  {
   "cell_type": "markdown",
   "id": "alpine-protocol",
   "metadata": {},
   "source": [
    "## Introducción\n",
    "\n",
    "Según la ONU la violencia de género se entiende como “Todo acto de violencia sexista que tiene como resultado posible o real un daño físico sexual o psíquico, incluidas las amenazas, la coerción o la privación arbitraria de la libertad, ya sea en el ámbito público o privado”. Se distinguen entre distintos tipos de violencia: física, psicológica, sexual, económica y patrimonial, y simbólica.\n",
    " \n",
    " *Como vamos a aplicar NLP en esta situación*\n"
   ]
  },
  {
   "cell_type": "markdown",
   "id": "alpine-crisis",
   "metadata": {},
   "source": [
    "## Problema\n",
    "\n",
    " Se va a utilizar un dataset que contiene diversos datos sobre denuncias de situaciones con violencia de género, provisto por el Juzgado Penal Contravencional y Faltas N° 10 de la Ciudad de Buenos Aires. Este dataset contiene casi 4000 filas con información, e incluye una columna denominada “frases de agresión”, estas son las frases que van a ser analizadas.\n",
    " \n",
    " Buscamos utilizar las herramientas de NLP para identificar si existen amenazas en un conjunto de frases.\n",
    " "
   ]
  },
  {
   "cell_type": "markdown",
   "id": "nearby-agenda",
   "metadata": {},
   "source": [
    "## Desarrollo"
   ]
  },
  {
   "cell_type": "markdown",
   "id": "chicken-country",
   "metadata": {},
   "source": [
    "## Conclusion"
   ]
  },
  {
   "cell_type": "code",
   "execution_count": null,
   "id": "extreme-creativity",
   "metadata": {},
   "outputs": [],
   "source": []
  }
 ],
 "metadata": {
  "kernelspec": {
   "display_name": "Python 3",
   "language": "python",
   "name": "python3"
  },
  "language_info": {
   "codemirror_mode": {
    "name": "ipython",
    "version": 3
   },
   "file_extension": ".py",
   "mimetype": "text/x-python",
   "name": "python",
   "nbconvert_exporter": "python",
   "pygments_lexer": "ipython3",
   "version": "3.8.7"
  }
 },
 "nbformat": 4,
 "nbformat_minor": 5
}
